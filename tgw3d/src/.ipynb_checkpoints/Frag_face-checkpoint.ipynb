{
 "cells": [
  {
   "cell_type": "code",
   "execution_count": 6,
   "metadata": {},
   "outputs": [
    {
     "data": {
      "text/plain": [
       "frag_face (generic function with 1 method)"
      ]
     },
     "execution_count": 6,
     "metadata": {},
     "output_type": "execute_result"
    }
   ],
   "source": [
    "function frag_face(V, EV, FE, sp_idx, sigma)\n",
    "\n",
    "    vs_num = size(V, 1)\n",
    "    \n",
    "\n",
    "\t# 2D transformation of sigma face\n",
    "    sigmavs = (abs.(FE[sigma:sigma,:])*abs.(EV))[1,:].nzind\n",
    "    \n",
    "    sV = V[sigmavs, :]\n",
    "    sEV = EV[FE[sigma, :].nzind, sigmavs]\n",
    "    M = Lar.Arrangement.submanifold_mapping(sV)\n",
    "    tV = ([V ones(vs_num)]*M)[:, 1:3]  # folle convertire *tutti* i vertici\n",
    "    sV = tV[sigmavs, :]\n",
    "    # sigma face intersection with faces in sp_idx[sigma]\n",
    "    for i in sp_idx[sigma]\n",
    "        \n",
    "        tmpV, tmpEV = Lar.Arrangement.face_int(tV, EV, FE[i, :])\n",
    "       \n",
    "\n",
    "        \n",
    "        sV, sEV = Lar.skel_merge(sV, sEV, tmpV, tmpEV)\n",
    "    end\n",
    "\n",
    "    # computation of 2D arrangement of sigma face\n",
    "    sV = sV[:, 1:2]\n",
    "    nV, nEV, nFE = Lar.Arrangement.planar_arrangement(sV, sEV, sparsevec(ones(Int8, length(sigmavs))))\n",
    "    if nV == nothing ## not possible !! ... (each original face maps to its decomposition)\n",
    "        return [], spzeros(Int8, 0,0), spzeros(Int8, 0,0)\n",
    "    end\n",
    "    nvsize = size(nV, 1)\n",
    "    nV = [nV zeros(nvsize) ones(nvsize)]*inv(M)[:, 1:3] ## ????\n",
    "    \n",
    "    return nV, nEV, nFE\n",
    "end"
   ]
  },
  {
   "cell_type": "code",
   "execution_count": 24,
   "metadata": {},
   "outputs": [
    {
     "name": "stdout",
     "output_type": "stream",
     "text": [
      "  0.001535 seconds (4.89 k allocations: 306.305 KiB)\n"
     ]
    },
    {
     "data": {
      "text/plain": [
       "([0.0 0.0 1.0; 0.0 1.0 1.0; 1.0 1.0 1.0; 1.0 0.0 1.0], \n",
       "  [1, 1]  =  -1\n",
       "  [4, 1]  =  -1\n",
       "  [1, 2]  =  1\n",
       "  [2, 2]  =  -1\n",
       "  [2, 3]  =  1\n",
       "  [3, 3]  =  -1\n",
       "  [3, 4]  =  1\n",
       "  [4, 4]  =  1, \n",
       "  [1, 1]  =  1\n",
       "  [1, 2]  =  1\n",
       "  [1, 3]  =  1\n",
       "  [1, 4]  =  -1)"
      ]
     },
     "execution_count": 24,
     "metadata": {},
     "output_type": "execute_result"
    }
   ],
   "source": [
    "using SparseArrays\n",
    "using LinearAlgebraicRepresentation\n",
    "\n",
    "Lar=LinearAlgebraicRepresentation\n",
    "\n",
    "\n",
    "\n",
    "V = Float64[\n",
    "        0 0 0; 0 1 0;\n",
    "        1 1 0; 1 0 0;\n",
    "        0 0 1; 0 1 1;\n",
    "        1 1 1; 1 0 1\n",
    "    ]\n",
    "\n",
    "    EV = sparse(Int8[\n",
    "        -1  1  0  0  0  0  0  0;\n",
    "        0 -1  1  0  0  0  0  0;\n",
    "        0  0 -1  1  0  0  0  0;\n",
    "        -1  0  0  1  0  0  0  0;\n",
    "        -1  0  0  0  1  0  0  0;\n",
    "        0 -1  0  0  0  1  0  0;\n",
    "        0  0 -1  0  0  0  1  0;\n",
    "        0  0  0 -1  0  0  0  1;\n",
    "        0  0  0  0 -1  1  0  0;\n",
    "        0  0  0  0  0 -1  1  0;\n",
    "        0  0  0  0  0  0 -1  1;\n",
    "        0  0  0  0 -1  0  0  1;\n",
    "    ])\n",
    "\n",
    "    FE = sparse(Int8[\n",
    "        1  1  1 -1  0  0  0  0  0  0  0  0;\n",
    "        0  0  0  0  0  0  0  0 -1 -1 -1  1;\n",
    "        -1  0  0  0  1 -1  0  0  1  0  0  0;\n",
    "        0 -1  0  0  0  1 -1  0  0  1  0  0;\n",
    "        0  0 -1  0  0  0  1 -1  0  0  1  0;\n",
    "        0  0  0  1 -1  0  0  1  0  0  0 -1;\n",
    "    ])\n",
    "\n",
    "@time frag_face(Lar.Points(V),EV,FE,[2,3,4,5],2)\n"
   ]
  },
  {
   "cell_type": "code",
   "execution_count": 25,
   "metadata": {},
   "outputs": [
    {
     "name": "stdout",
     "output_type": "stream",
     "text": [
      "  622.101 μs (4891 allocations: 306.30 KiB)\n"
     ]
    },
    {
     "data": {
      "text/plain": [
       "([0.0 0.0 1.0; 0.0 1.0 1.0; 1.0 1.0 1.0; 1.0 0.0 1.0], \n",
       "  [1, 1]  =  -1\n",
       "  [4, 1]  =  -1\n",
       "  [1, 2]  =  1\n",
       "  [2, 2]  =  -1\n",
       "  [2, 3]  =  1\n",
       "  [3, 3]  =  -1\n",
       "  [3, 4]  =  1\n",
       "  [4, 4]  =  1, \n",
       "  [1, 1]  =  1\n",
       "  [1, 2]  =  1\n",
       "  [1, 3]  =  1\n",
       "  [1, 4]  =  -1)"
      ]
     },
     "execution_count": 25,
     "metadata": {},
     "output_type": "execute_result"
    }
   ],
   "source": [
    "using BenchmarkTools\n",
    "@btime frag_face(Lar.Points(V),EV,FE,[2,3,4,5],2)"
   ]
  },
  {
   "cell_type": "code",
   "execution_count": 18,
   "metadata": {},
   "outputs": [
    {
     "data": {
      "text/plain": [
       "duetrasf (generic function with 1 method)"
      ]
     },
     "execution_count": 18,
     "metadata": {},
     "output_type": "execute_result"
    }
   ],
   "source": [
    "\n",
    "#function duetrasf(V,EV,FE,sigma,vs_num)\n",
    "function duetrasf(V::Lar.Points,EV::Lar.ChainOp,FE::Lar.ChainOp,sigma::Int,vs_num::Int) \n",
    "  \n",
    "    sigmavs = (abs.(FE[sigma:sigma,:])*abs.(EV))[1,:].nzind\n",
    "    sV = V[sigmavs, :]\n",
    "    #@show sV\n",
    "    sEV = EV[FE[sigma, :].nzind, sigmavs]\n",
    "    M = Lar.Arrangement.submanifold_mapping(sV)\n",
    "    tV = ([V ones(vs_num)]*M)[:, 1:3]  # folle convertire *tutti* i vertici\n",
    "    sV = tV[sigmavs, :]\n",
    "    \n",
    "    return tV, sV, sEV, M, sigmavs\n",
    "\n",
    "    end"
   ]
  },
  {
   "cell_type": "code",
   "execution_count": 19,
   "metadata": {},
   "outputs": [
    {
     "data": {
      "text/plain": [
       "sigma (generic function with 1 method)"
      ]
     },
     "execution_count": 19,
     "metadata": {},
     "output_type": "execute_result"
    }
   ],
   "source": [
    "#Tuple{Array{Float64,2},SparseMatrixCSC{Int8,Int64},SparseMatrixCSC{Int8,Int64},Array{Any,2},SparseMatrixCSC{Int8,Int64},Array{Int64,1},Int64\n",
    "#function sigma(tV,EV,FE,sV,sEV,sp_idx,sigma)\n",
    "#function sigma(tV::Array,EV::Lar.ChainOp,FE::Lar.ChainOp,sV::Array,sEV::Lar.ChainOp,sp_idx::Array,sigma::Int)\n",
    "function sigma(tV::Tuple{Array{Float64,2}},EV::SparseMatrixCSC{Int8,Int64},FE::SparseMatrixCSC{Int8,Int64},sV::Array{Any,2},sEV::SparseMatrixCSC{Int8,Int64},sp_idx::Array{Int64,1},sigma::Int64,)\n",
    "\n",
    "    \n",
    "    for i in sp_idx[sigma]\n",
    "        tmpV, tmpEV = Lar.Arrangement.face_int(tV, EV, FE[i, :])\n",
    "        #@show FE[i, :]\n",
    "        sV, sEV = Lar.skel_merge(sV, sEV, tmpV, tmpEV)\n",
    "    \n",
    "    end\n",
    "    return sV,sEV\n",
    "    \n",
    "    end\n",
    "        \n",
    "        \n",
    "    \n"
   ]
  },
  {
   "cell_type": "code",
   "execution_count": 20,
   "metadata": {},
   "outputs": [
    {
     "data": {
      "text/plain": [
       "arrsigma (generic function with 1 method)"
      ]
     },
     "execution_count": 20,
     "metadata": {},
     "output_type": "execute_result"
    }
   ],
   "source": [
    "#function arrsigma(sV,sEV,sigmavs,M)\n",
    "function arrsigma(sV::Array,sEV::Lar.ChainOp,sigmavs::Array,M::Array)\n",
    "    sV = sV[:, 1:2]\n",
    "    nV, nEV, nFE = Lar.Arrangement.planar_arrangement(sV, sEV, sparsevec(ones(Int8, length(sigmavs))))\n",
    "    if nV == nothing ## not possible !! ... (each original face maps to its decomposition)\n",
    "        return [], spzeros(Int8, 0,0), spzeros(Int8, 0,0)\n",
    "    end\n",
    "    nvsize = size(nV, 1)\n",
    "    nV = [nV zeros(nvsize) ones(nvsize)]*inv(M)[:, 1:3] ## ????\n",
    "    \n",
    "    return nV,nEV,nFE\n",
    "end"
   ]
  },
  {
   "cell_type": "code",
   "execution_count": 40,
   "metadata": {},
   "outputs": [
    {
     "data": {
      "text/plain": [
       "frag_faceOTT (generic function with 1 method)"
      ]
     },
     "execution_count": 40,
     "metadata": {},
     "output_type": "execute_result"
    }
   ],
   "source": [
    "\n"
   ]
  },
  {
   "cell_type": "code",
   "execution_count": 42,
   "metadata": {},
   "outputs": [
    {
     "data": {
      "text/plain": [
       "frag_faceOTT (generic function with 1 method)"
      ]
     },
     "execution_count": 42,
     "metadata": {},
     "output_type": "execute_result"
    }
   ],
   "source": [
    "using Base.Threads\n",
    "function frag_faceOTT(V, EV, FE, sp_idx, sigma)\n",
    "#function frag_faceOTT(V::Lar.Points, EV::Lar.ChainOp, FE::Lar.ChainOp, sp_idx::Array, sigma::Int)\n",
    "    \n",
    "    \n",
    "    vs_num = size(V, 1)\n",
    "    tV,sV,sEV,M,sigmavs = duetrasf(V,EV,FE,sigma,vs_num)\n",
    "    \n",
    "    \n",
    "    #sV,sEV= sigma(tV,EV,FE,sV,sEV,sp_idx,sigma)\n",
    "    Threads.@threads for i in sp_idx[sigma]\n",
    "         @inbounds tmpV, tmpEV = Lar.Arrangement.face_int(tV, EV, FE[i, :])\n",
    "         \n",
    "         @inbounds sV, sEV = Lar.skel_merge(sV, sEV, tmpV, tmpEV)\n",
    "      \n",
    "     end\n",
    "\n",
    "    # computation of 2D arrangement of sigma face\n",
    "    nV,nEV,nFE = arrsigma(sV,sEV,sigmavs,M)\n",
    "    #sV = sV[:, 1:2]\n",
    "    #nV, nEV, nFE = Lar.Arrangement.planar_arrangement(sV, sEV, sparsevec(ones(Int8, length(sigmavs))))\n",
    "    #if nV == nothing ## not possible !! ... (each original face maps to its decomposition)\n",
    "        #return [], spzeros(Int8, 0,0), spzeros(Int8, 0,0)\n",
    "    #end\n",
    "    #nvsize = size(nV, 1)\n",
    "    #nV = [nV zeros(nvsize) ones(nvsize)]*inv(M)[:, 1:3] ## ????\n",
    "    #print(typeof((vs_num,sV,sEV)))\n",
    "    return nV, nEV, nFE\n",
    "\n",
    "end\n"
   ]
  },
  {
   "cell_type": "code",
   "execution_count": 43,
   "metadata": {},
   "outputs": [
    {
     "name": "stdout",
     "output_type": "stream",
     "text": [
      "  0.038371 seconds (84.17 k allocations: 4.537 MiB)\n"
     ]
    },
    {
     "data": {
      "text/plain": [
       "([0.0 0.0 0.0; 0.0 1.0 0.0; 0.0 0.0 1.0; 0.0 1.0 1.0], \n",
       "  [1, 1]  =  -1\n",
       "  [2, 1]  =  -1\n",
       "  [1, 2]  =  1\n",
       "  [3, 2]  =  -1\n",
       "  [2, 3]  =  1\n",
       "  [4, 3]  =  -1\n",
       "  [3, 4]  =  1\n",
       "  [4, 4]  =  1, \n",
       "  [1, 1]  =  1\n",
       "  [1, 2]  =  -1\n",
       "  [1, 3]  =  1\n",
       "  [1, 4]  =  -1)"
      ]
     },
     "execution_count": 43,
     "metadata": {},
     "output_type": "execute_result"
    }
   ],
   "source": [
    "using SparseArrays\n",
    "using LinearAlgebraicRepresentation\n",
    "\n",
    "Lar=LinearAlgebraicRepresentation\n",
    "\n",
    "\n",
    "\n",
    "V = Float64[\n",
    "        0 0 0; 0 1 0;\n",
    "        1 1 0; 1 0 0;\n",
    "        0 0 1; 0 1 1;\n",
    "        1 1 1; 1 0 1\n",
    "    ]\n",
    "\n",
    "    EV = sparse(Int8[\n",
    "        -1  1  0  0  0  0  0  0;\n",
    "        0 -1  1  0  0  0  0  0;\n",
    "        0  0 -1  1  0  0  0  0;\n",
    "        -1  0  0  1  0  0  0  0;\n",
    "        -1  0  0  0  1  0  0  0;\n",
    "        0 -1  0  0  0  1  0  0;\n",
    "        0  0 -1  0  0  0  1  0;\n",
    "        0  0  0 -1  0  0  0  1;\n",
    "        0  0  0  0 -1  1  0  0;\n",
    "        0  0  0  0  0 -1  1  0;\n",
    "        0  0  0  0  0  0 -1  1;\n",
    "        0  0  0  0 -1  0  0  1;\n",
    "    ])\n",
    "\n",
    "    FE = sparse(Int8[\n",
    "        1  1  1 -1  0  0  0  0  0  0  0  0;\n",
    "        0  0  0  0  0  0  0  0 -1 -1 -1  1;\n",
    "        -1  0  0  0  1 -1  0  0  1  0  0  0;\n",
    "        0 -1  0  0  0  1 -1  0  0  1  0  0;\n",
    "        0  0 -1  0  0  0  1 -1  0  0  1  0;\n",
    "        0  0  0  1 -1  0  0  1  0  0  0 -1;\n",
    "    ])\n",
    "@time frag_faceOTT(Lar.Points(V),EV,FE,[2,4,5],3)\n"
   ]
  },
  {
   "cell_type": "code",
   "execution_count": 44,
   "metadata": {},
   "outputs": [
    {
     "name": "stdout",
     "output_type": "stream",
     "text": [
      "  496.000 μs (3936 allocations: 255.13 KiB)\n"
     ]
    },
    {
     "data": {
      "text/plain": [
       "([0.0 0.0 0.0; 0.0 1.0 0.0; 0.0 0.0 1.0; 0.0 1.0 1.0], \n",
       "  [1, 1]  =  -1\n",
       "  [2, 1]  =  -1\n",
       "  [1, 2]  =  1\n",
       "  [3, 2]  =  -1\n",
       "  [2, 3]  =  1\n",
       "  [4, 3]  =  -1\n",
       "  [3, 4]  =  1\n",
       "  [4, 4]  =  1, \n",
       "  [1, 1]  =  1\n",
       "  [1, 2]  =  -1\n",
       "  [1, 3]  =  1\n",
       "  [1, 4]  =  -1)"
      ]
     },
     "execution_count": 44,
     "metadata": {},
     "output_type": "execute_result"
    }
   ],
   "source": [
    "using BenchmarkTools\n",
    "\n",
    "@btime frag_faceOTT(Lar.Points(V),EV,FE,[2,4,5],3)"
   ]
  },
  {
   "cell_type": "code",
   "execution_count": null,
   "metadata": {},
   "outputs": [],
   "source": []
  }
 ],
 "metadata": {
  "kernelspec": {
   "display_name": "Julia 1.5.2",
   "language": "julia",
   "name": "julia-1.5"
  },
  "language_info": {
   "file_extension": ".jl",
   "mimetype": "application/julia",
   "name": "julia",
   "version": "1.5.2"
  }
 },
 "nbformat": 4,
 "nbformat_minor": 4
}
