{
 "cells": [
  {
   "cell_type": "code",
   "execution_count": 12,
   "metadata": {},
   "outputs": [],
   "source": [
    "using LinearAlgebraicRepresentation\n",
    "using BenchmarkTools"
   ]
  },
  {
   "cell_type": "code",
   "execution_count": 13,
   "metadata": {},
   "outputs": [
    {
     "data": {
      "text/plain": [
       "frag_face_channel (generic function with 1 method)"
      ]
     },
     "execution_count": 13,
     "metadata": {},
     "output_type": "execute_result"
    }
   ],
   "source": [
    "using LinearAlgebraicRepresentation\n",
    "Lar=LinearAlgebraicRepresentation\n",
    "function frag_face_channel(in_chan, out_chan, V, EV, FE, sp_idx)\n",
    "    run_loop = true\n",
    "    while run_loop\n",
    "        \n",
    "        sigma = take!(in_chan)\n",
    "        \n",
    "        if sigma != -1\n",
    "            put!(out_chan,Lar.Arrangement.frag_face(V, EV, FE, sp_idx, sigma))\n",
    "        \n",
    "    \n",
    "            \n",
    "        else\n",
    "            run_loop = false\n",
    "        end\n",
    "    end\n",
    "    return V,EV\n",
    "end\n",
    "\n"
   ]
  },
  {
   "cell_type": "code",
   "execution_count": 16,
   "metadata": {
    "scrolled": true
   },
   "outputs": [
    {
     "name": "stdout",
     "output_type": "stream",
     "text": [
      "  0.021266 seconds (69.41 k allocations: 3.840 MiB)\n"
     ]
    },
    {
     "data": {
      "text/plain": [
       "([0.0 0.0 0.0; 0.0 1.0 0.0; … ; 1.0 1.0 1.0; 1.0 0.0 1.0], \n",
       "  [1 , 1]  =  -1\n",
       "  [4 , 1]  =  -1\n",
       "  [5 , 1]  =  -1\n",
       "  [1 , 2]  =  1\n",
       "  [2 , 2]  =  -1\n",
       "  [6 , 2]  =  -1\n",
       "  [2 , 3]  =  1\n",
       "  [3 , 3]  =  -1\n",
       "  [7 , 3]  =  -1\n",
       "  [3 , 4]  =  1\n",
       "  [4 , 4]  =  1\n",
       "  [8 , 4]  =  -1\n",
       "  [5 , 5]  =  1\n",
       "  [9 , 5]  =  -1\n",
       "  [12, 5]  =  -1\n",
       "  [6 , 6]  =  1\n",
       "  [9 , 6]  =  1\n",
       "  [10, 6]  =  -1\n",
       "  [7 , 7]  =  1\n",
       "  [10, 7]  =  1\n",
       "  [11, 7]  =  -1\n",
       "  [8 , 8]  =  1\n",
       "  [11, 8]  =  1\n",
       "  [12, 8]  =  1)"
      ]
     },
     "execution_count": 16,
     "metadata": {},
     "output_type": "execute_result"
    }
   ],
   "source": [
    "\n",
    "using Distributed\n",
    "using BenchmarkTools\n",
    "using SparseArrays\n",
    "using LinearAlgebraicRepresentation\n",
    "\n",
    "Lar=LinearAlgebraicRepresentation\n",
    " \n",
    "V = Float64[\n",
    "        0 0 0; 0 1 0;\n",
    "        1 1 0; 1 0 0;\n",
    "        0 0 1; 0 1 1;\n",
    "        1 1 1; 1 0 1\n",
    "    ]\n",
    "\n",
    "    EV = sparse(Int8[\n",
    "        -1  1  0  0  0  0  0  0;\n",
    "        0 -1  1  0  0  0  0  0;\n",
    "        0  0 -1  1  0  0  0  0;\n",
    "        -1  0  0  1  0  0  0  0;\n",
    "        -1  0  0  0  1  0  0  0;\n",
    "        0 -1  0  0  0  1  0  0;\n",
    "        0  0 -1  0  0  0  1  0;\n",
    "        0  0  0 -1  0  0  0  1;\n",
    "        0  0  0  0 -1  1  0  0;\n",
    "        0  0  0  0  0 -1  1  0;\n",
    "        0  0  0  0  0  0 -1  1;\n",
    "        0  0  0  0 -1  0  0  1;\n",
    "    ])\n",
    "\n",
    "    FE = sparse(Int8[\n",
    "        1  1  1 -1  0  0  0  0  0  0  0  0;\n",
    "        0  0  0  0  0  0  0  0 -1 -1 -1  1;\n",
    "        -1  0  0  0  1 -1  0  0  1  0  0  0;\n",
    "        0 -1  0  0  0  1 -1  0  0  1  0  0;\n",
    "        0  0 -1  0  0  0  1 -1  0  0  1  0;\n",
    "        0  0  0  1 -1  0  0  1  0  0  0 -1;\n",
    "    ])\n",
    "\n",
    "fs_num = size(FE, 1)\n",
    "    \n",
    "FV = Lar.compute_FV( EV, FE )\n",
    "model = (convert(Lar.Points,V'), FV)\n",
    "sp_idx = Lar.spaceindex(model)\n",
    "\n",
    "in_chan = Distributed.RemoteChannel(()->Channel{Int64}(0))\n",
    "out_chan = Distributed.RemoteChannel(()->Channel{Tuple}(10))\n",
    "        @async begin\n",
    "            for sigma in 1:fs_num\n",
    "                put!(in_chan, sigma)\n",
    "            end\n",
    "            for p in Distributed.workers()\n",
    "                put!(in_chan, -1)\n",
    "            end\n",
    "        \n",
    "        for p in Distributed.workers()\n",
    "            @async Base.remote_do(\n",
    "                frag_face_channel, p, in_chan, out_chan, V, EV, FE, sp_idx)\n",
    "    end\n",
    "end\n",
    "\n",
    "@time frag_face_channel(in_chan,out_chan,Lar.Points(V),EV,FE,sp_idx)\n",
    "\n"
   ]
  },
  {
   "cell_type": "code",
   "execution_count": 5,
   "metadata": {},
   "outputs": [
    {
     "data": {
      "text/plain": [
       "Task (runnable) @0x0000000014ba73d0"
      ]
     },
     "execution_count": 5,
     "metadata": {},
     "output_type": "execute_result"
    }
   ],
   "source": []
  },
  {
   "cell_type": "code",
   "execution_count": 6,
   "metadata": {},
   "outputs": [
    {
     "data": {
      "text/plain": [
       "Channel{Tuple}(sz_max:0,sz_curr:0)"
      ]
     },
     "execution_count": 6,
     "metadata": {},
     "output_type": "execute_result"
    }
   ],
   "source": []
  },
  {
   "cell_type": "code",
   "execution_count": null,
   "metadata": {},
   "outputs": [],
   "source": []
  }
 ],
 "metadata": {
  "kernelspec": {
   "display_name": "Julia 1.5.2",
   "language": "julia",
   "name": "julia-1.5"
  },
  "language_info": {
   "file_extension": ".jl",
   "mimetype": "application/julia",
   "name": "julia",
   "version": "1.5.2"
  }
 },
 "nbformat": 4,
 "nbformat_minor": 4
}
