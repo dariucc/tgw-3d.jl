{
 "cells": [
  {
   "cell_type": "code",
   "execution_count": 4,
   "metadata": {},
   "outputs": [
    {
     "data": {
      "text/plain": [
       "spatial_arrangement (generic function with 2 methods)"
      ]
     },
     "execution_count": 4,
     "metadata": {},
     "output_type": "execute_result"
    }
   ],
   "source": [
    "\n",
    "function spatial_arrangement(\n",
    "\t\tV::Lar.Points, # by rows\n",
    "\t\tcopEV::Lar.ChainOp,\n",
    "\t\tcopFE::Lar.ChainOp, multiproc::Bool=false)\n",
    "\n",
    "\t# face subdivision\n",
    "\trV, rcopEV, rcopFE = Lar.Arrangement.spatial_arrangement_1( V, copEV, copFE, multiproc ) # copFE global\n",
    "\tbicon_comps = Lar.Arrangement.biconnected_components(rcopEV)\n",
    "\t#W,bicon_comps = Lar.biconnectedComponent((W,EV))\n",
    "\t#@error \"comps# = $(length(bicon_comps))\"\n",
    "\t# 3-complex and containment graph\n",
    "\trV, rEV, rFE, rCF = Lar.Arrangement.spatial_arrangement_2(rV, rcopEV, rcopFE)\n",
    "end"
   ]
  },
  {
   "cell_type": "code",
   "execution_count": 5,
   "metadata": {},
   "outputs": [
    {
     "ename": "LoadError",
     "evalue": "UndefVarError: Triangle not defined",
     "output_type": "error",
     "traceback": [
      "UndefVarError: Triangle not defined",
      "",
      "Stacktrace:",
      " [1] triangulate2d(::Array{Float64,2}, ::Array{Array{Int64,1},1}) at C:\\Users\\daria\\.julia\\packages\\LinearAlgebraicRepresentation\\qwzGL\\src\\utilities.jl:1272",
      " [2] (::LinearAlgebraicRepresentation.Arrangement.var\"#face_angle#5\"{Array{Float64,2},SparseMatrixCSC{Int8,Int64},SparseMatrixCSC{Int8,Int64},Array{Any,1}})(::Int64, ::Int64) at C:\\Users\\daria\\.julia\\packages\\LinearAlgebraicRepresentation\\qwzGL\\src\\arrangement\\minimal_cycles.jl:68",
      " [3] (::LinearAlgebraicRepresentation.Arrangement.var\"#_minimal_cycles#13\"{LinearAlgebraicRepresentation.Arrangement.var\"#face_angle#5\"{Array{Float64,2},SparseMatrixCSC{Int8,Int64},SparseMatrixCSC{Int8,Int64},Array{Any,1}},Bool})(::Array{Float64,2}, ::SparseMatrixCSC{Int8,Int64}) at C:\\Users\\daria\\.julia\\packages\\LinearAlgebraicRepresentation\\qwzGL\\src\\arrangement\\minimal_cycles.jl:133",
      " [4] minimal_3cycles(::Array{Float64,2}, ::SparseMatrixCSC{Int8,Int64}, ::SparseMatrixCSC{Int8,Int64}) at C:\\Users\\daria\\.julia\\packages\\LinearAlgebraicRepresentation\\qwzGL\\src\\arrangement\\minimal_cycles.jl:100",
      " [5] spatial_arrangement_2 at C:\\Users\\daria\\.julia\\packages\\LinearAlgebraicRepresentation\\qwzGL\\src\\arrangement\\spatial_arrangement.jl:201 [inlined] (repeats 2 times)",
      " [6] spatial_arrangement(::Array{Float64,2}, ::SparseMatrixCSC{Int8,Int64}, ::SparseMatrixCSC{Int8,Int64}, ::Bool) at .\\In[4]:13",
      " [7] top-level scope at .\\timing.jl:174 [inlined]",
      " [8] top-level scope at .\\In[5]:0",
      " [9] include_string(::Function, ::Module, ::String, ::String) at .\\loading.jl:1091"
     ]
    }
   ],
   "source": [
    "using SparseArrays\n",
    "using LinearAlgebraicRepresentation\n",
    "\n",
    "Lar=LinearAlgebraicRepresentation\n",
    "\n",
    "\n",
    "\n",
    "V = Float64[\n",
    "        0 0 0; 0 1 0;\n",
    "        1 1 0; 1 0 0;\n",
    "        0 0 1; 0 1 1;\n",
    "        1 1 1; 1 0 1\n",
    "    ]\n",
    "\n",
    "    EV = sparse(Int8[\n",
    "        -1  1  0  0  0  0  0  0;\n",
    "        0 -1  1  0  0  0  0  0;\n",
    "        0  0 -1  1  0  0  0  0;\n",
    "        -1  0  0  1  0  0  0  0;\n",
    "        -1  0  0  0  1  0  0  0;\n",
    "        0 -1  0  0  0  1  0  0;\n",
    "        0  0 -1  0  0  0  1  0;\n",
    "        0  0  0 -1  0  0  0  1;\n",
    "        0  0  0  0 -1  1  0  0;\n",
    "        0  0  0  0  0 -1  1  0;\n",
    "        0  0  0  0  0  0 -1  1;\n",
    "        0  0  0  0 -1  0  0  1;\n",
    "    ])\n",
    "\n",
    "    FE = sparse(Int8[\n",
    "        1  1  1 -1  0  0  0  0  0  0  0  0;\n",
    "        0  0  0  0  0  0  0  0 -1 -1 -1  1;\n",
    "        -1  0  0  0  1 -1  0  0  1  0  0  0;\n",
    "        0 -1  0  0  0  1 -1  0  0  1  0  0;\n",
    "        0  0 -1  0  0  0  1 -1  0  0  1  0;\n",
    "        0  0  0  1 -1  0  0  1  0  0  0 -1;\n",
    "    ])\n",
    "@time spatial_arrangement(Lar.Points(V),Lar.ChainOp(EV),Lar.ChainOp(FE),false)"
   ]
  },
  {
   "cell_type": "code",
   "execution_count": null,
   "metadata": {},
   "outputs": [],
   "source": []
  }
 ],
 "metadata": {
  "kernelspec": {
   "display_name": "Julia 1.5.2",
   "language": "julia",
   "name": "julia-1.5"
  },
  "language_info": {
   "file_extension": ".jl",
   "mimetype": "application/julia",
   "name": "julia",
   "version": "1.5.2"
  }
 },
 "nbformat": 4,
 "nbformat_minor": 4
}
