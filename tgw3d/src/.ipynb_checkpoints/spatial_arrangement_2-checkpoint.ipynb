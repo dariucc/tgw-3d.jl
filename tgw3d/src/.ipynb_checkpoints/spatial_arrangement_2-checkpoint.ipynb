{
 "cells": [
  {
   "cell_type": "code",
   "execution_count": 1,
   "metadata": {},
   "outputs": [
    {
     "data": {
      "text/plain": [
       "spatial_arrangement_2 (generic function with 2 methods)"
      ]
     },
     "execution_count": 1,
     "metadata": {},
     "output_type": "execute_result"
    }
   ],
   "source": [
    "using LinearAlgebraicRepresentation\n",
    "\n",
    "Lar=LinearAlgebraicRepresentation \n",
    "function spatial_arrangement_2(\n",
    "\t\trV::Lar.Points,\n",
    "\t\trcopEV::Lar.ChainOp,\n",
    "\t\trcopFE::Lar.ChainOp, multiproc::Bool=false)\n",
    "\n",
    "\trcopCF = Lar.build_copFC(rV, rcopEV, rcopFE)\n",
    "\t#rcopCF = Lar.Arrangement.minimal_3cycles(rV, rcopEV, rcopFE)\n",
    "    return rV, rcopEV, rcopFE, rcopCF\n",
    "end\n"
   ]
  },
  {
   "cell_type": "code",
   "execution_count": 2,
   "metadata": {
    "scrolled": true
   },
   "outputs": [
    {
     "ename": "LoadError",
     "evalue": "MethodError: Cannot `convert` an object of type Array{Base.Generator{Array{Int64,1},LinearAlgebraicRepresentation.var\"#86#91\"{Array{Array{Int64,1},1}}},1} to an object of type Int64\nClosest candidates are:\n  convert(::Type{T}, !Matched::T) where T<:Number at number.jl:6\n  convert(::Type{T}, !Matched::Number) where T<:Number at number.jl:7\n  convert(::Type{T}, !Matched::Ptr) where T<:Integer at pointer.jl:23\n  ...",
     "output_type": "error",
     "traceback": [
      "MethodError: Cannot `convert` an object of type Array{Base.Generator{Array{Int64,1},LinearAlgebraicRepresentation.var\"#86#91\"{Array{Array{Int64,1},1}}},1} to an object of type Int64\nClosest candidates are:\n  convert(::Type{T}, !Matched::T) where T<:Number at number.jl:6\n  convert(::Type{T}, !Matched::Number) where T<:Number at number.jl:7\n  convert(::Type{T}, !Matched::Ptr) where T<:Integer at pointer.jl:23\n  ...",
      "",
      "Stacktrace:",
      " [1] setindex!(::Array{Int64,1}, ::Array{Base.Generator{Array{Int64,1},LinearAlgebraicRepresentation.var\"#86#91\"{Array{Array{Int64,1},1}}},1}, ::Int64) at .\\array.jl:847",
      " [2] _unsafe_copyto!(::Array{Int64,1}, ::Int64, ::Array{Array{Base.Generator{Array{Int64,1},LinearAlgebraicRepresentation.var\"#86#91\"{Array{Array{Int64,1},1}}},1},1}, ::Int64, ::Int64) at .\\array.jl:257",
      " [3] unsafe_copyto! at .\\array.jl:311 [inlined]",
      " [4] _copyto_impl! at .\\array.jl:335 [inlined]",
      " [5] copyto! at .\\array.jl:321 [inlined]",
      " [6] copyto! at .\\array.jl:347 [inlined]",
      " [7] copyto_axcheck! at .\\abstractarray.jl:946 [inlined]",
      " [8] Array at .\\array.jl:562 [inlined]",
      " [9] convert(::Type{Array{Int64,1}}, ::Array{Array{Base.Generator{Array{Int64,1},LinearAlgebraicRepresentation.var\"#86#91\"{Array{Array{Int64,1},1}}},1},1}) at .\\array.jl:554",
      " [10] build_copFC(::Array{Float64,2}, ::SparseMatrixCSC{Int8,Int64}, ::SparseMatrixCSC{Int8,Int64}) at C:\\Users\\daria\\.julia\\packages\\LinearAlgebraicRepresentation\\qwzGL\\src\\utilities.jl:123",
      " [11] spatial_arrangement_2(::Array{Float64,2}, ::SparseMatrixCSC{Int8,Int64}, ::SparseMatrixCSC{Int8,Int64}, ::Bool) at .\\In[1]:9",
      " [12] top-level scope at .\\timing.jl:174 [inlined]",
      " [13] top-level scope at .\\In[2]:0",
      " [14] include_string(::Function, ::Module, ::String, ::String) at .\\loading.jl:1091"
     ]
    }
   ],
   "source": [
    "Lar=LinearAlgebraicRepresentation \n",
    "using SparseArrays\n",
    "V = Float64[\n",
    "        0 0 0; 0 1 0;\n",
    "        1 1 0; 1 0 0;\n",
    "        0 0 1; 0 1 1;\n",
    "        1 1 1; 1 0 1\n",
    "    ]\n",
    "\n",
    "    EV = sparse(Int8[\n",
    "        -1  1  0  0  0  0  0  0;\n",
    "        0 -1  1  0  0  0  0  0;\n",
    "        0  0 -1  1  0  0  0  0;\n",
    "        -1  0  0  1  0  0  0  0;\n",
    "        -1  0  0  0  1  0  0  0;\n",
    "        0 -1  0  0  0  1  0  0;\n",
    "        0  0 -1  0  0  0  1  0;\n",
    "        0  0  0 -1  0  0  0  1;\n",
    "        0  0  0  0 -1  1  0  0;\n",
    "        0  0  0  0  0 -1  1  0;\n",
    "        0  0  0  0  0  0 -1  1;\n",
    "        0  0  0  0 -1  0  0  1;\n",
    "    ])\n",
    "\n",
    "    FE = sparse(Int8[\n",
    "        1  1  1 -1  0  0  0  0  0  0  0  0;\n",
    "        0  0  0  0  0  0  0  0 -1 -1 -1  1;\n",
    "        -1  0  0  0  1 -1  0  0  1  0  0  0;\n",
    "        0 -1  0  0  0  1 -1  0  0  1  0  0;\n",
    "        0  0 -1  0  0  0  1 -1  0  0  1  0;\n",
    "        0  0  0  1 -1  0  0  1  0  0  0 -1;\n",
    "    ])\n",
    "@time spatial_arrangement_2(Lar.Points(V),Lar.ChainOp(EV),Lar.ChainOp(FE),true)"
   ]
  },
  {
   "cell_type": "code",
   "execution_count": null,
   "metadata": {},
   "outputs": [],
   "source": []
  },
  {
   "cell_type": "code",
   "execution_count": null,
   "metadata": {},
   "outputs": [],
   "source": []
  }
 ],
 "metadata": {
  "kernelspec": {
   "display_name": "Julia 1.5.2",
   "language": "julia",
   "name": "julia-1.5"
  },
  "language_info": {
   "file_extension": ".jl",
   "mimetype": "application/julia",
   "name": "julia",
   "version": "1.5.2"
  }
 },
 "nbformat": 4,
 "nbformat_minor": 4
}
