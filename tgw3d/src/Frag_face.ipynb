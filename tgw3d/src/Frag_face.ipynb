{
 "cells": [
  {
   "cell_type": "code",
   "execution_count": 53,
   "metadata": {},
   "outputs": [
    {
     "data": {
      "text/plain": [
       "frag_face (generic function with 1 method)"
      ]
     },
     "execution_count": 53,
     "metadata": {},
     "output_type": "execute_result"
    }
   ],
   "source": [
    "function frag_face(V, EV, FE, sp_idx, sigma)\n",
    "\n",
    "    vs_num = size(V, 1)\n",
    "\n",
    "\t# 2D transformation of sigma face\n",
    "    sigmavs = (abs.(FE[sigma:sigma,:])*abs.(EV))[1,:].nzind\n",
    "    sV = V[sigmavs, :]\n",
    "    sEV = EV[FE[sigma, :].nzind, sigmavs]\n",
    "    M = Lar.Arrangement.submanifold_mapping(sV)\n",
    "    tV = ([V ones(vs_num)]*M)[:, 1:3]  # folle convertire *tutti* i vertici\n",
    "    sV = tV[sigmavs, :]\n",
    "    # sigma face intersection with faces in sp_idx[sigma]\n",
    "    for i in sp_idx[sigma]\n",
    "        tmpV, tmpEV = Lar.Arrangement.face_int(tV, EV, FE[i, :])\n",
    "\n",
    "        sV, sEV = Lar.skel_merge(sV, sEV, tmpV, tmpEV)\n",
    "    end\n",
    "\n",
    "    # computation of 2D arrangement of sigma face\n",
    "    sV = sV[:, 1:2]\n",
    "    nV, nEV, nFE = Lar.Arrangement.planar_arrangement(sV, sEV, sparsevec(ones(Int8, length(sigmavs))))\n",
    "    if nV == nothing ## not possible !! ... (each original face maps to its decomposition)\n",
    "        return [], spzeros(Int8, 0,0), spzeros(Int8, 0,0)\n",
    "    end\n",
    "    nvsize = size(nV, 1)\n",
    "    nV = [nV zeros(nvsize) ones(nvsize)]*inv(M)[:, 1:3] ## ????\n",
    "    return nV, nEV, nFE\n",
    "end"
   ]
  },
  {
   "cell_type": "code",
   "execution_count": 52,
   "metadata": {},
   "outputs": [
    {
     "name": "stdout",
     "output_type": "stream",
     "text": [
      "  0.000993 seconds (4.89 k allocations: 306.305 KiB)\n"
     ]
    },
    {
     "data": {
      "text/plain": [
       "([0.0 0.0 1.0; 0.0 1.0 1.0; 1.0 1.0 1.0; 1.0 0.0 1.0], \n",
       "  [1, 1]  =  -1\n",
       "  [4, 1]  =  -1\n",
       "  [1, 2]  =  1\n",
       "  [2, 2]  =  -1\n",
       "  [2, 3]  =  1\n",
       "  [3, 3]  =  -1\n",
       "  [3, 4]  =  1\n",
       "  [4, 4]  =  1, \n",
       "  [1, 1]  =  1\n",
       "  [1, 2]  =  1\n",
       "  [1, 3]  =  1\n",
       "  [1, 4]  =  -1)"
      ]
     },
     "execution_count": 52,
     "metadata": {},
     "output_type": "execute_result"
    }
   ],
   "source": [
    "using SparseArrays\n",
    "using LinearAlgebraicRepresentation\n",
    "\n",
    "Lar=LinearAlgebraicRepresentation\n",
    "\n",
    "\n",
    "\n",
    "V = Float64[\n",
    "        0 0 0; 0 1 0;\n",
    "        1 1 0; 1 0 0;\n",
    "        0 0 1; 0 1 1;\n",
    "        1 1 1; 1 0 1\n",
    "    ]\n",
    "\n",
    "    EV = sparse(Int8[\n",
    "        -1  1  0  0  0  0  0  0;\n",
    "        0 -1  1  0  0  0  0  0;\n",
    "        0  0 -1  1  0  0  0  0;\n",
    "        -1  0  0  1  0  0  0  0;\n",
    "        -1  0  0  0  1  0  0  0;\n",
    "        0 -1  0  0  0  1  0  0;\n",
    "        0  0 -1  0  0  0  1  0;\n",
    "        0  0  0 -1  0  0  0  1;\n",
    "        0  0  0  0 -1  1  0  0;\n",
    "        0  0  0  0  0 -1  1  0;\n",
    "        0  0  0  0  0  0 -1  1;\n",
    "        0  0  0  0 -1  0  0  1;\n",
    "    ])\n",
    "\n",
    "    FE = sparse(Int8[\n",
    "        1  1  1 -1  0  0  0  0  0  0  0  0;\n",
    "        0  0  0  0  0  0  0  0 -1 -1 -1  1;\n",
    "        -1  0  0  0  1 -1  0  0  1  0  0  0;\n",
    "        0 -1  0  0  0  1 -1  0  0  1  0  0;\n",
    "        0  0 -1  0  0  0  1 -1  0  0  1  0;\n",
    "        0  0  0  1 -1  0  0  1  0  0  0 -1;\n",
    "    ])\n",
    "@time frag_face(Lar.Points(V),EV,FE,[2,3,4,5],2)\n"
   ]
  },
  {
   "cell_type": "code",
   "execution_count": 51,
   "metadata": {},
   "outputs": [
    {
     "name": "stdout",
     "output_type": "stream",
     "text": [
      "  621.000 μs (4891 allocations: 306.30 KiB)\n"
     ]
    },
    {
     "data": {
      "text/plain": [
       "([0.0 0.0 1.0; 0.0 1.0 1.0; 1.0 1.0 1.0; 1.0 0.0 1.0], \n",
       "  [1, 1]  =  -1\n",
       "  [4, 1]  =  -1\n",
       "  [1, 2]  =  1\n",
       "  [2, 2]  =  -1\n",
       "  [2, 3]  =  1\n",
       "  [3, 3]  =  -1\n",
       "  [3, 4]  =  1\n",
       "  [4, 4]  =  1, \n",
       "  [1, 1]  =  1\n",
       "  [1, 2]  =  1\n",
       "  [1, 3]  =  1\n",
       "  [1, 4]  =  -1)"
      ]
     },
     "execution_count": 51,
     "metadata": {},
     "output_type": "execute_result"
    }
   ],
   "source": [
    "@btime frag_face(Lar.Points(V),EV,FE,[2,3,4,5],2)"
   ]
  },
  {
   "cell_type": "code",
   "execution_count": 85,
   "metadata": {},
   "outputs": [
    {
     "data": {
      "text/plain": [
       "duetrasf (generic function with 1 method)"
      ]
     },
     "execution_count": 85,
     "metadata": {},
     "output_type": "execute_result"
    }
   ],
   "source": [
    "function duetrasf(V,EV,FE,sigma,vs_num) \n",
    "  \n",
    "    sigmavs = (abs.(FE[sigma:sigma,:])*abs.(EV))[1,:].nzind\n",
    "    sV = V[sigmavs, :]\n",
    "    sEV = EV[FE[sigma, :].nzind, sigmavs]\n",
    "    M = Lar.Arrangement.submanifold_mapping(sV)\n",
    "    tV = ([V ones(vs_num)]*M)[:, 1:3]  # folle convertire *tutti* i vertici\n",
    "    sV = tV[sigmavs, :]\n",
    "    \n",
    "    return tV, sV, sEV, M, sigmavs\n",
    "\n",
    "    end"
   ]
  },
  {
   "cell_type": "code",
   "execution_count": 86,
   "metadata": {},
   "outputs": [
    {
     "data": {
      "text/plain": [
       "sigma (generic function with 2 methods)"
      ]
     },
     "execution_count": 86,
     "metadata": {},
     "output_type": "execute_result"
    }
   ],
   "source": [
    "function sigma(tV,EV,FE,sV,sEV,sp_idx,sigma)\n",
    "    for i in sp_idx[sigma]\n",
    "        tmpV, tmpEV = Lar.Arrangement.face_int(tV, EV, FE[i, :])\n",
    "\n",
    "        sV, sEV = Lar.skel_merge(sV, sEV, tmpV, tmpEV)\n",
    "    \n",
    "    end\n",
    "    return tmpV,tmpEV,sV,sEV\n",
    "    \n",
    "end\n",
    "        \n",
    "        \n",
    "    \n"
   ]
  },
  {
   "cell_type": "code",
   "execution_count": 87,
   "metadata": {},
   "outputs": [
    {
     "data": {
      "text/plain": [
       "arrsigma (generic function with 1 method)"
      ]
     },
     "execution_count": 87,
     "metadata": {},
     "output_type": "execute_result"
    }
   ],
   "source": [
    "function arrsigma(V,EF,FE,sp_idx,sigma)\n",
    "    sV = sV[:, 1:2]\n",
    "    nV, nEV, nFE = Lar.Arrangement.planar_arrangement(sV, sEV, sparsevec(ones(Int8, length(sigmavs))))\n",
    "    if nV == nothing ## not possible !! ... (each original face maps to its decomposition)\n",
    "        return [], spzeros(Int8, 0,0), spzeros(Int8, 0,0)\n",
    "    end\n",
    "    nvsize = size(nV, 1)\n",
    "    nV = [nV zeros(nvsize) ones(nvsize)]*inv(M)[:, 1:3] ## ????\n",
    "    \n",
    "    return sV,nV,nEV,nFE,nsize\n",
    "end"
   ]
  },
  {
   "cell_type": "code",
   "execution_count": 100,
   "metadata": {},
   "outputs": [
    {
     "data": {
      "text/plain": [
       "frag_faceOTT (generic function with 1 method)"
      ]
     },
     "execution_count": 100,
     "metadata": {},
     "output_type": "execute_result"
    }
   ],
   "source": [
    "function frag_faceOTT(V, EV, FE, sp_idx, sigma)\n",
    "    vs_num = size(V, 1)\n",
    "    tV,sV,sEV,M,sigmavs = duetrasf(V,EV,FE,sigma,vs_num)\n",
    "    tmpV,tmpEV,sV,sEV = sigma(tV,EV,FE,sV,sEV,sp_idx,sigma)\n",
    "    sV,nV,nEV,nFE,nsize= arrsigma(sV,sEV,sigmavs,nsize,nV)\n",
    "    \n",
    "    return nV, nEV, nFE\n",
    "\n",
    "end\n"
   ]
  },
  {
   "cell_type": "code",
   "execution_count": 101,
   "metadata": {},
   "outputs": [
    {
     "ename": "LoadError",
     "evalue": "MethodError: objects of type Int64 are not callable",
     "output_type": "error",
     "traceback": [
      "MethodError: objects of type Int64 are not callable",
      "",
      "Stacktrace:",
      " [1] frag_faceOTT(::Array{Float64,2}, ::SparseMatrixCSC{Int8,Int64}, ::SparseMatrixCSC{Int8,Int64}, ::Array{Int64,1}, ::Int64) at .\\In[100]:4",
      " [2] top-level scope at .\\timing.jl:174 [inlined]",
      " [3] top-level scope at .\\In[101]:0",
      " [4] include_string(::Function, ::Module, ::String, ::String) at .\\loading.jl:1091"
     ]
    }
   ],
   "source": [
    "using SparseArrays\n",
    "using LinearAlgebraicRepresentation\n",
    "\n",
    "Lar=LinearAlgebraicRepresentation\n",
    "\n",
    "\n",
    "\n",
    "V = Float64[\n",
    "        0 0 0; 0 1 0;\n",
    "        1 1 0; 1 0 0;\n",
    "        0 0 1; 0 1 1;\n",
    "        1 1 1; 1 0 1\n",
    "    ]\n",
    "\n",
    "    EV = sparse(Int8[\n",
    "        -1  1  0  0  0  0  0  0;\n",
    "        0 -1  1  0  0  0  0  0;\n",
    "        0  0 -1  1  0  0  0  0;\n",
    "        -1  0  0  1  0  0  0  0;\n",
    "        -1  0  0  0  1  0  0  0;\n",
    "        0 -1  0  0  0  1  0  0;\n",
    "        0  0 -1  0  0  0  1  0;\n",
    "        0  0  0 -1  0  0  0  1;\n",
    "        0  0  0  0 -1  1  0  0;\n",
    "        0  0  0  0  0 -1  1  0;\n",
    "        0  0  0  0  0  0 -1  1;\n",
    "        0  0  0  0 -1  0  0  1;\n",
    "    ])\n",
    "\n",
    "    FE = sparse(Int8[\n",
    "        1  1  1 -1  0  0  0  0  0  0  0  0;\n",
    "        0  0  0  0  0  0  0  0 -1 -1 -1  1;\n",
    "        -1  0  0  0  1 -1  0  0  1  0  0  0;\n",
    "        0 -1  0  0  0  1 -1  0  0  1  0  0;\n",
    "        0  0 -1  0  0  0  1 -1  0  0  1  0;\n",
    "        0  0  0  1 -1  0  0  1  0  0  0 -1;\n",
    "    ])\n",
    "@time frag_faceOTT(Lar.Points(V),EV,FE,[2,4,5],3)"
   ]
  },
  {
   "cell_type": "code",
   "execution_count": null,
   "metadata": {},
   "outputs": [],
   "source": []
  }
 ],
 "metadata": {
  "kernelspec": {
   "display_name": "Julia 1.5.2",
   "language": "julia",
   "name": "julia-1.5"
  },
  "language_info": {
   "file_extension": ".jl",
   "mimetype": "application/julia",
   "name": "julia",
   "version": "1.5.2"
  }
 },
 "nbformat": 4,
 "nbformat_minor": 4
}
