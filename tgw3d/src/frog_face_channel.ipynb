{
 "cells": [
  {
   "cell_type": "code",
   "execution_count": null,
   "metadata": {},
   "outputs": [],
   "source": [
    "using LinearAlgebraicRepresentation\n",
    "import Pkg\n",
    "Pkg.add(\"BenchmarkTools\")\n",
    "using BenchmarkTools"
   ]
  },
  {
   "cell_type": "code",
   "execution_count": 2,
   "metadata": {},
   "outputs": [
    {
     "data": {
      "text/plain": [
       "frag_face_channel (generic function with 1 method)"
      ]
     },
     "execution_count": 2,
     "metadata": {},
     "output_type": "execute_result"
    }
   ],
   "source": [
    "function frag_face_channel(in_chan, out_chan, V, EV, FE, sp_idx)\n",
    "    run_loop = true\n",
    "    while run_loop\n",
    "        sigma = take!(in_chan)\n",
    "        if sigma != -1\n",
    "            put!(out_chan, frag_face(V, EV, FE, sp_idx, sigma))\n",
    "        else\n",
    "            run_loop = false\n",
    "        end\n",
    "    end\n",
    "end\n",
    "\n"
   ]
  },
  {
   "cell_type": "code",
   "execution_count": 6,
   "metadata": {},
   "outputs": [
    {
     "ename": "LoadError",
     "evalue": "MethodError: no method matching take!(::Array{Int64,1})\nClosest candidates are:\n  take!(!Matched::Distributed.WorkerPool) at D:\\buildbot\\worker\\package_win64\\build\\usr\\share\\julia\\stdlib\\v1.5\\Distributed\\src\\workerpool.jl:136\n  take!(!Matched::IOStream) at iostream.jl:419\n  take!(!Matched::Base.GenericIOBuffer{Array{UInt8,1}}) at iobuffer.jl:385\n  ...",
     "output_type": "error",
     "traceback": [
      "MethodError: no method matching take!(::Array{Int64,1})\nClosest candidates are:\n  take!(!Matched::Distributed.WorkerPool) at D:\\buildbot\\worker\\package_win64\\build\\usr\\share\\julia\\stdlib\\v1.5\\Distributed\\src\\workerpool.jl:136\n  take!(!Matched::IOStream) at iostream.jl:419\n  take!(!Matched::Base.GenericIOBuffer{Array{UInt8,1}}) at iobuffer.jl:385\n  ...",
      "",
      "Stacktrace:",
      " [1] frag_face_channel(::Array{Int64,1}, ::Array{Int64,1}, ::Array{Float64,2}, ::SparseMatrixCSC{Int8,Int64}, ::SparseMatrixCSC{Int8,Int64}, ::Array{Int64,1}) at .\\In[2]:4",
      " [2] top-level scope at .\\timing.jl:174 [inlined]",
      " [3] top-level scope at .\\In[6]:0",
      " [4] include_string(::Function, ::Module, ::String, ::String) at .\\loading.jl:1091"
     ]
    }
   ],
   "source": [
    "using BenchmarkTools\n",
    "using SparseArrays\n",
    "using LinearAlgebraicRepresentation\n",
    "\n",
    "Lar=LinearAlgebraicRepresentation\n",
    " \n",
    "V = Float64[\n",
    "        0 0 0; 0 1 0;\n",
    "        1 1 0; 1 0 0;\n",
    "        0 0 1; 0 1 1;\n",
    "        1 1 1; 1 0 1\n",
    "    ]\n",
    "\n",
    "    EV = sparse(Int8[\n",
    "        -1  1  0  0  0  0  0  0;\n",
    "        0 -1  1  0  0  0  0  0;\n",
    "        0  0 -1  1  0  0  0  0;\n",
    "        -1  0  0  1  0  0  0  0;\n",
    "        -1  0  0  0  1  0  0  0;\n",
    "        0 -1  0  0  0  1  0  0;\n",
    "        0  0 -1  0  0  0  1  0;\n",
    "        0  0  0 -1  0  0  0  1;\n",
    "        0  0  0  0 -1  1  0  0;\n",
    "        0  0  0  0  0 -1  1  0;\n",
    "        0  0  0  0  0  0 -1  1;\n",
    "        0  0  0  0 -1  0  0  1;\n",
    "    ])\n",
    "\n",
    "    FE = sparse(Int8[\n",
    "        1  1  1 -1  0  0  0  0  0  0  0  0;\n",
    "        0  0  0  0  0  0  0  0 -1 -1 -1  1;\n",
    "        -1  0  0  0  1 -1  0  0  1  0  0  0;\n",
    "        0 -1  0  0  0  1 -1  0  0  1  0  0;\n",
    "        0  0 -1  0  0  0  1 -1  0  0  1  0;\n",
    "        0  0  0  1 -1  0  0  1  0  0  0 -1;\n",
    "    ])\n",
    "\n",
    "@time frag_face_channel([2,3,4],[0,0,0],Lar.Points(V),EV,FE,[0,2])\n"
   ]
  },
  {
   "cell_type": "code",
   "execution_count": null,
   "metadata": {},
   "outputs": [],
   "source": []
  }
 ],
 "metadata": {
  "kernelspec": {
   "display_name": "Julia 1.5.2",
   "language": "julia",
   "name": "julia-1.5"
  },
  "language_info": {
   "file_extension": ".jl",
   "mimetype": "application/julia",
   "name": "julia",
   "version": "1.5.2"
  }
 },
 "nbformat": 4,
 "nbformat_minor": 4
}
