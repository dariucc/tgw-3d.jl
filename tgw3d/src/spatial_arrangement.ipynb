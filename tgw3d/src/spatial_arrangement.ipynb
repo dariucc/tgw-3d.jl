{
 "cells": [
  {
   "cell_type": "code",
   "execution_count": 2,
   "metadata": {},
   "outputs": [
    {
     "data": {
      "text/plain": [
       "spatial_arrangement (generic function with 2 methods)"
      ]
     },
     "execution_count": 2,
     "metadata": {},
     "output_type": "execute_result"
    }
   ],
   "source": [
    "using BenchmarkTools\n",
    "using SparseArrays\n",
    "using LinearAlgebraicRepresentation\n",
    "\n",
    "Lar=LinearAlgebraicRepresentation\n",
    "function spatial_arrangement(\n",
    "\t\tV::Lar.Points, # by rows\n",
    "\t\tcopEV::Lar.ChainOp,\n",
    "\t\tcopFE::Lar.ChainOp, multiproc::Bool=false)\n",
    "\n",
    "\t# face subdivision\n",
    "\trV, rcopEV, rcopFE = Lar.Arrangement.spatial_arrangement_1( V, copEV, copFE, multiproc ) # copFE global\n",
    "\tbicon_comps = Lar.Arrangement.biconnected_components(rcopEV)\n",
    "\t#W,bicon_comps = Lar.biconnectedComponent((W,EV))\n",
    "\t#@error \"comps# = $(length(bicon_comps))\"\n",
    "\t# 3-complex and containment graph\n",
    "\t#rV, rEV, rFE, rCF = Lar.Arrangement.spatial_arrangement_2(rV, rcopEV, rcopFE)\n",
    "end"
   ]
  },
  {
   "cell_type": "code",
   "execution_count": 3,
   "metadata": {},
   "outputs": [
    {
     "name": "stdout",
     "output_type": "stream",
     "text": [
      " 14.075805 seconds (36.45 M allocations: 1.819 GiB, 3.63% gc time)\n"
     ]
    },
    {
     "data": {
      "text/plain": [
       "1-element Array{Array{Int64,1},1}:\n",
       " [11, 10, 9, 8, 5, 6, 7, 12, 4, 3, 2, 1]"
      ]
     },
     "execution_count": 3,
     "metadata": {},
     "output_type": "execute_result"
    }
   ],
   "source": [
    "\n",
    "\n",
    "\n",
    "\n",
    "V = Float64[\n",
    "        0 0 0; 0 1 0;\n",
    "        1 1 0; 1 0 0;\n",
    "        0 0 1; 0 1 1;\n",
    "        1 1 1; 1 0 1\n",
    "    ]\n",
    "\n",
    "    EV = sparse(Int8[\n",
    "        -1  1  0  0  0  0  0  0;\n",
    "        0 -1  1  0  0  0  0  0;\n",
    "        0  0 -1  1  0  0  0  0;\n",
    "        -1  0  0  1  0  0  0  0;\n",
    "        -1  0  0  0  1  0  0  0;\n",
    "        0 -1  0  0  0  1  0  0;\n",
    "        0  0 -1  0  0  0  1  0;\n",
    "        0  0  0 -1  0  0  0  1;\n",
    "        0  0  0  0 -1  1  0  0;\n",
    "        0  0  0  0  0 -1  1  0;\n",
    "        0  0  0  0  0  0 -1  1;\n",
    "        0  0  0  0 -1  0  0  1;\n",
    "    ])\n",
    "\n",
    "    FE = sparse(Int8[\n",
    "        1  1  1 -1  0  0  0  0  0  0  0  0;\n",
    "        0  0  0  0  0  0  0  0 -1 -1 -1  1;\n",
    "        -1  0  0  0  1 -1  0  0  1  0  0  0;\n",
    "        0 -1  0  0  0  1 -1  0  0  1  0  0;\n",
    "        0  0 -1  0  0  0  1 -1  0  0  1  0;\n",
    "        0  0  0  1 -1  0  0  1  0  0  0 -1;\n",
    "    ])\n",
    "@time spatial_arrangement(Lar.Points(V),Lar.ChainOp(EV),Lar.ChainOp(FE),false)"
   ]
  },
  {
   "cell_type": "code",
   "execution_count": 4,
   "metadata": {},
   "outputs": [
    {
     "name": "stdout",
     "output_type": "stream",
     "text": [
      "  6.732 ms (54897 allocations: 3.17 MiB)\n"
     ]
    },
    {
     "data": {
      "text/plain": [
       "1-element Array{Array{Int64,1},1}:\n",
       " [11, 10, 9, 8, 5, 6, 7, 12, 4, 3, 2, 1]"
      ]
     },
     "execution_count": 4,
     "metadata": {},
     "output_type": "execute_result"
    }
   ],
   "source": [
    "@btime spatial_arrangement(Lar.Points(V),Lar.ChainOp(EV),Lar.ChainOp(FE),false)"
   ]
  },
  {
   "cell_type": "code",
   "execution_count": 7,
   "metadata": {},
   "outputs": [
    {
     "ename": "LoadError",
     "evalue": "InterruptException:",
     "output_type": "error",
     "traceback": [
      "InterruptException:",
      "",
      "Stacktrace:",
      " [1] try_yieldto(::typeof(Base.ensure_rescheduled)) at .\\task.jl:656",
      " [2] wait at .\\task.jl:713 [inlined]",
      " [3] wait(::Base.GenericCondition{ReentrantLock}) at .\\condition.jl:106",
      " [4] take_unbuffered(::Channel{Tuple}) at .\\channels.jl:405",
      " [5] take!(::Channel{Tuple}) at .\\channels.jl:381",
      " [6] take!(::Distributed.RemoteValue) at D:\\buildbot\\worker\\package_win64\\build\\usr\\share\\julia\\stdlib\\v1.5\\Distributed\\src\\remotecall.jl:599",
      " [7] take_ref(::Distributed.RRID, ::Int64) at D:\\buildbot\\worker\\package_win64\\build\\usr\\share\\julia\\stdlib\\v1.5\\Distributed\\src\\remotecall.jl:610",
      " [8] call_on_owner at D:\\buildbot\\worker\\package_win64\\build\\usr\\share\\julia\\stdlib\\v1.5\\Distributed\\src\\remotecall.jl:492 [inlined]",
      " [9] take!(::Distributed.RemoteChannel{Channel{Tuple}}) at D:\\buildbot\\worker\\package_win64\\build\\usr\\share\\julia\\stdlib\\v1.5\\Distributed\\src\\remotecall.jl:626",
      " [10] spatial_arrangement_1(::Array{Float64,2}, ::SparseMatrixCSC{Int8,Int64}, ::SparseMatrixCSC{Int8,Int64}, ::Bool) at C:\\Users\\daria\\.julia\\packages\\LinearAlgebraicRepresentation\\qwzGL\\src\\arrangement\\spatial_arrangement.jl:176",
      " [11] spatial_arrangement(::Array{Float64,2}, ::SparseMatrixCSC{Int8,Int64}, ::SparseMatrixCSC{Int8,Int64}, ::Bool) at .\\In[2]:12",
      " [12] ##core#277() at C:\\Users\\daria\\.julia\\packages\\BenchmarkTools\\eCEpo\\src\\execution.jl:371",
      " [13] ##sample#278(::BenchmarkTools.Parameters) at C:\\Users\\daria\\.julia\\packages\\BenchmarkTools\\eCEpo\\src\\execution.jl:377",
      " [14] _run(::BenchmarkTools.Benchmark{Symbol(\"##benchmark#276\")}, ::BenchmarkTools.Parameters; verbose::Bool, pad::String, kwargs::Base.Iterators.Pairs{Symbol,Integer,NTuple{4,Symbol},NamedTuple{(:samples, :evals, :gctrial, :gcsample),Tuple{Int64,Int64,Bool,Bool}}}) at C:\\Users\\daria\\.julia\\packages\\BenchmarkTools\\eCEpo\\src\\execution.jl:405",
      " [15] (::Base.var\"#inner#2\"{Base.Iterators.Pairs{Symbol,Integer,NTuple{5,Symbol},NamedTuple{(:verbose, :samples, :evals, :gctrial, :gcsample),Tuple{Bool,Int64,Int64,Bool,Bool}}},typeof(BenchmarkTools._run),Tuple{BenchmarkTools.Benchmark{Symbol(\"##benchmark#276\")},BenchmarkTools.Parameters}})() at .\\essentials.jl:713",
      " [16] #invokelatest#1 at .\\essentials.jl:714 [inlined]",
      " [17] #run_result#37 at C:\\Users\\daria\\.julia\\packages\\BenchmarkTools\\eCEpo\\src\\execution.jl:32 [inlined]",
      " [18] run(::BenchmarkTools.Benchmark{Symbol(\"##benchmark#276\")}, ::BenchmarkTools.Parameters; progressid::Nothing, nleaves::Float64, ndone::Float64, kwargs::Base.Iterators.Pairs{Symbol,Integer,NTuple{5,Symbol},NamedTuple{(:verbose, :samples, :evals, :gctrial, :gcsample),Tuple{Bool,Int64,Int64,Bool,Bool}}}) at C:\\Users\\daria\\.julia\\packages\\BenchmarkTools\\eCEpo\\src\\execution.jl:94",
      " [19] #warmup#45 at C:\\Users\\daria\\.julia\\packages\\BenchmarkTools\\eCEpo\\src\\execution.jl:141 [inlined]",
      " [20] warmup(::BenchmarkTools.Benchmark{Symbol(\"##benchmark#276\")}) at C:\\Users\\daria\\.julia\\packages\\BenchmarkTools\\eCEpo\\src\\execution.jl:141",
      " [21] top-level scope at C:\\Users\\daria\\.julia\\packages\\BenchmarkTools\\eCEpo\\src\\execution.jl:481",
      " [22] include_string(::Function, ::Module, ::String, ::String) at .\\loading.jl:1091"
     ]
    }
   ],
   "source": [
    "@btime spatial_arrangement(Lar.Points(V),Lar.ChainOp(EV),Lar.ChainOp(FE),true)"
   ]
  },
  {
   "cell_type": "code",
   "execution_count": 6,
   "metadata": {},
   "outputs": [
    {
     "ename": "LoadError",
     "evalue": "InterruptException:",
     "output_type": "error",
     "traceback": [
      "InterruptException:",
      "",
      "Stacktrace:",
      " [1] try_yieldto(::typeof(Base.ensure_rescheduled)) at .\\task.jl:656",
      " [2] wait at .\\task.jl:713 [inlined]",
      " [3] wait(::Base.GenericCondition{ReentrantLock}) at .\\condition.jl:106",
      " [4] take_unbuffered(::Channel{Tuple}) at .\\channels.jl:405",
      " [5] take!(::Channel{Tuple}) at .\\channels.jl:381",
      " [6] take!(::Distributed.RemoteValue) at D:\\buildbot\\worker\\package_win64\\build\\usr\\share\\julia\\stdlib\\v1.5\\Distributed\\src\\remotecall.jl:599",
      " [7] take_ref(::Distributed.RRID, ::Int64) at D:\\buildbot\\worker\\package_win64\\build\\usr\\share\\julia\\stdlib\\v1.5\\Distributed\\src\\remotecall.jl:610",
      " [8] call_on_owner at D:\\buildbot\\worker\\package_win64\\build\\usr\\share\\julia\\stdlib\\v1.5\\Distributed\\src\\remotecall.jl:492 [inlined]",
      " [9] take!(::Distributed.RemoteChannel{Channel{Tuple}}) at D:\\buildbot\\worker\\package_win64\\build\\usr\\share\\julia\\stdlib\\v1.5\\Distributed\\src\\remotecall.jl:626",
      " [10] spatial_arrangement_1(::Array{Float64,2}, ::SparseMatrixCSC{Int8,Int64}, ::SparseMatrixCSC{Int8,Int64}, ::Bool) at C:\\Users\\daria\\.julia\\packages\\LinearAlgebraicRepresentation\\qwzGL\\src\\arrangement\\spatial_arrangement.jl:176",
      " [11] spatial_arrangement(::Array{Float64,2}, ::SparseMatrixCSC{Int8,Int64}, ::SparseMatrixCSC{Int8,Int64}, ::Bool) at .\\In[2]:12",
      " [12] top-level scope at .\\timing.jl:174 [inlined]",
      " [13] top-level scope at .\\In[6]:0",
      " [14] include_string(::Function, ::Module, ::String, ::String) at .\\loading.jl:1091"
     ]
    }
   ],
   "source": [
    "@time spatial_arrangement(Lar.Points(V),Lar.ChainOp(EV),Lar.ChainOp(FE),true)"
   ]
  },
  {
   "cell_type": "code",
   "execution_count": null,
   "metadata": {},
   "outputs": [],
   "source": []
  }
 ],
 "metadata": {
  "kernelspec": {
   "display_name": "Julia 1.5.2",
   "language": "julia",
   "name": "julia-1.5"
  },
  "language_info": {
   "file_extension": ".jl",
   "mimetype": "application/julia",
   "name": "julia",
   "version": "1.5.2"
  }
 },
 "nbformat": 4,
 "nbformat_minor": 4
}
