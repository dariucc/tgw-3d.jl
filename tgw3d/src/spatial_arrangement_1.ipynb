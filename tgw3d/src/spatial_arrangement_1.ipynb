{
 "cells": [
  {
   "cell_type": "code",
   "execution_count": 3,
   "metadata": {},
   "outputs": [
    {
     "data": {
      "text/plain": [
       "spatial_arrangement_1 (generic function with 2 methods)"
      ]
     },
     "execution_count": 3,
     "metadata": {},
     "output_type": "execute_result"
    }
   ],
   "source": [
    "using SparseArrays\n",
    "using LinearAlgebraicRepresentation\n",
    "\n",
    "Lar=LinearAlgebraicRepresentation\n",
    "function spatial_arrangement_1(\n",
    "\t\tV::Lar.Points,\n",
    "\t\tcopEV::Lar.ChainOp,\n",
    "\t\tcopFE::Lar.ChainOp, multiproc::Bool=false)\n",
    "\n",
    "\t# spaceindex computation\n",
    "\tFV = Lar.compute_FV( copEV, copFE )\n",
    "\tmodel = (convert(Lar.Points,V'), FV)\n",
    "\tsp_idx = Lar.spaceindex(model)\n",
    "\n",
    "\t# initializations\n",
    "    fs_num = size(copFE, 1)\n",
    "    rV = Array{Float64,2}(undef,0,3)\n",
    "    rEV = SparseArrays.spzeros(Int8,0,0)\n",
    "    rFE = SparseArrays.spzeros(Int8,0,0)\n",
    "\n",
    "\t# multiprocessing of face fragmentation\n",
    "    if (multiproc == true)\n",
    "        in_chan = Distributed.RemoteChannel(()->Channel{Int64}(0))\n",
    "        out_chan = Distributed.RemoteChannel(()->Channel{Tuple}(0))\n",
    "        @async begin\n",
    "            for sigma in 1:fs_num\n",
    "                put!(in_chan, sigma)\n",
    "            end\n",
    "            for p in Distributed.workers()\n",
    "                put!(in_chan, -1)\n",
    "            end\n",
    "        end\n",
    "        for p in Distributed.workers()\n",
    "            @async Base.remote_do(\n",
    "                frag_face_channel, p, in_chan, out_chan, V, EV, FE, sp_idx)\n",
    "        end\n",
    "        for sigma in 1:fs_num\n",
    "            rV, rEV, rFE = Lar.skel_merge(rV, rEV, rFE, take!(out_chan)...)\n",
    "        end\n",
    "    else\n",
    "\t# sequential (iterative) processing of face fragmentation\n",
    "        for sigma in 1:fs_num\n",
    "            #print(sigma, \"/\", fs_num, \"\\r\")\n",
    "            nV, nEV, nFE = Lar.Arrangement.frag_face(V, copEV, copFE, sp_idx, sigma)\n",
    "\t\t\t#nV, nEV, nFE = Lar.fragface(V, copEV, copFE, sp_idx, sigma)\n",
    "\t\t\tnV = convert(Lar.Points, nV)\n",
    "            a,b,c = Lar.skel_merge( rV,rEV,rFE,  nV,nEV,nFE )\n",
    "            rV=a;  rEV=b;  rFE=c\n",
    "        end\n",
    "    end\n",
    "\t# merging of close vertices, edges and faces (3D congruence)\n",
    "\trV, rEV, rFE = Lar.Arrangement.merge_vertices(rV, rEV, rFE)\n",
    "    return rV, rEV, rFE\n",
    "end"
   ]
  },
  {
   "cell_type": "code",
   "execution_count": 7,
   "metadata": {},
   "outputs": [
    {
     "name": "stdout",
     "output_type": "stream",
     "text": [
      "  0.010088 seconds (54.52 k allocations: 3.141 MiB)\n"
     ]
    },
    {
     "data": {
      "text/plain": [
       "([0.0 0.0 0.0; 0.0 1.0 0.0; … ; 1.0 1.0 1.0; 1.0 0.0 1.0], \n",
       "  [1 , 1]  =  -1\n",
       "  [4 , 1]  =  -1\n",
       "  [9 , 1]  =  -1\n",
       "  [1 , 2]  =  1\n",
       "  [2 , 2]  =  -1\n",
       "  [10, 2]  =  -1\n",
       "  [2 , 3]  =  1\n",
       "  [3 , 3]  =  -1\n",
       "  [11, 3]  =  -1\n",
       "  [3 , 4]  =  1\n",
       "  [4 , 4]  =  1\n",
       "  [12, 4]  =  -1\n",
       "  [5 , 5]  =  -1\n",
       "  [8 , 5]  =  -1\n",
       "  [9 , 5]  =  1\n",
       "  [5 , 6]  =  1\n",
       "  [6 , 6]  =  -1\n",
       "  [10, 6]  =  1\n",
       "  [6 , 7]  =  1\n",
       "  [7 , 7]  =  -1\n",
       "  [11, 7]  =  1\n",
       "  [7 , 8]  =  1\n",
       "  [8 , 8]  =  1\n",
       "  [12, 8]  =  1, \n",
       "  [1,  1]  =  1\n",
       "  [3,  1]  =  1\n",
       "  [1,  2]  =  1\n",
       "  [4,  2]  =  1\n",
       "  [1,  3]  =  1\n",
       "  [5,  3]  =  1\n",
       "  [1,  4]  =  -1\n",
       "  [6,  4]  =  1\n",
       "  [2,  5]  =  1\n",
       "  [3,  5]  =  -1\n",
       "  [2,  6]  =  1\n",
       "  [4,  6]  =  -1\n",
       "  [2,  7]  =  1\n",
       "  [5,  7]  =  -1\n",
       "  [2,  8]  =  -1\n",
       "  [6,  8]  =  -1\n",
       "  [3,  9]  =  -1\n",
       "  [6,  9]  =  -1\n",
       "  [3, 10]  =  1\n",
       "  [4, 10]  =  -1\n",
       "  [4, 11]  =  1\n",
       "  [5, 11]  =  -1\n",
       "  [5, 12]  =  1\n",
       "  [6, 12]  =  1)"
      ]
     },
     "execution_count": 7,
     "metadata": {},
     "output_type": "execute_result"
    }
   ],
   "source": [
    "using SparseArrays\n",
    "V = Float64[\n",
    "        0 0 0; 0 1 0;\n",
    "        1 1 0; 1 0 0;\n",
    "        0 0 1; 0 1 1;\n",
    "        1 1 1; 1 0 1\n",
    "    ]\n",
    "\n",
    "    EV = sparse(Int8[\n",
    "        -1  1  0  0  0  0  0  0;\n",
    "        0 -1  1  0  0  0  0  0;\n",
    "        0  0 -1  1  0  0  0  0;\n",
    "        -1  0  0  1  0  0  0  0;\n",
    "        -1  0  0  0  1  0  0  0;\n",
    "        0 -1  0  0  0  1  0  0;\n",
    "        0  0 -1  0  0  0  1  0;\n",
    "        0  0  0 -1  0  0  0  1;\n",
    "        0  0  0  0 -1  1  0  0;\n",
    "        0  0  0  0  0 -1  1  0;\n",
    "        0  0  0  0  0  0 -1  1;\n",
    "        0  0  0  0 -1  0  0  1;\n",
    "    ])\n",
    "\n",
    "    FE = sparse(Int8[\n",
    "        1  1  1 -1  0  0  0  0  0  0  0  0;\n",
    "        0  0  0  0  0  0  0  0 -1 -1 -1  1;\n",
    "        -1  0  0  0  1 -1  0  0  1  0  0  0;\n",
    "        0 -1  0  0  0  1 -1  0  0  1  0  0;\n",
    "        0  0 -1  0  0  0  1 -1  0  0  1  0;\n",
    "        0  0  0  1 -1  0  0  1  0  0  0 -1;\n",
    "    ])\n",
    "@time spatial_arrangement_1(Lar.Points(V),Lar.ChainOp(EV),Lar.ChainOp(FE),false)\n"
   ]
  },
  {
   "cell_type": "code",
   "execution_count": 10,
   "metadata": {},
   "outputs": [
    {
     "name": "stdout",
     "output_type": "stream",
     "text": [
      "  6.859 ms (54524 allocations: 3.14 MiB)\n"
     ]
    },
    {
     "data": {
      "text/plain": [
       "([0.0 0.0 0.0; 0.0 1.0 0.0; … ; 1.0 1.0 1.0; 1.0 0.0 1.0], \n",
       "  [1 , 1]  =  -1\n",
       "  [4 , 1]  =  -1\n",
       "  [9 , 1]  =  -1\n",
       "  [1 , 2]  =  1\n",
       "  [2 , 2]  =  -1\n",
       "  [10, 2]  =  -1\n",
       "  [2 , 3]  =  1\n",
       "  [3 , 3]  =  -1\n",
       "  [11, 3]  =  -1\n",
       "  [3 , 4]  =  1\n",
       "  [4 , 4]  =  1\n",
       "  [12, 4]  =  -1\n",
       "  [5 , 5]  =  -1\n",
       "  [8 , 5]  =  -1\n",
       "  [9 , 5]  =  1\n",
       "  [5 , 6]  =  1\n",
       "  [6 , 6]  =  -1\n",
       "  [10, 6]  =  1\n",
       "  [6 , 7]  =  1\n",
       "  [7 , 7]  =  -1\n",
       "  [11, 7]  =  1\n",
       "  [7 , 8]  =  1\n",
       "  [8 , 8]  =  1\n",
       "  [12, 8]  =  1, \n",
       "  [1,  1]  =  1\n",
       "  [3,  1]  =  1\n",
       "  [1,  2]  =  1\n",
       "  [4,  2]  =  1\n",
       "  [1,  3]  =  1\n",
       "  [5,  3]  =  1\n",
       "  [1,  4]  =  -1\n",
       "  [6,  4]  =  1\n",
       "  [2,  5]  =  1\n",
       "  [3,  5]  =  -1\n",
       "  [2,  6]  =  1\n",
       "  [4,  6]  =  -1\n",
       "  [2,  7]  =  1\n",
       "  [5,  7]  =  -1\n",
       "  [2,  8]  =  -1\n",
       "  [6,  8]  =  -1\n",
       "  [3,  9]  =  -1\n",
       "  [6,  9]  =  -1\n",
       "  [3, 10]  =  1\n",
       "  [4, 10]  =  -1\n",
       "  [4, 11]  =  1\n",
       "  [5, 11]  =  -1\n",
       "  [5, 12]  =  1\n",
       "  [6, 12]  =  1)"
      ]
     },
     "execution_count": 10,
     "metadata": {},
     "output_type": "execute_result"
    }
   ],
   "source": [
    "using BenchmarkTools\n",
    "\n",
    "@btime spatial_arrangement_1(Lar.Points(V),Lar.ChainOp(EV),Lar.ChainOp(FE),false)"
   ]
  },
  {
   "cell_type": "code",
   "execution_count": null,
   "metadata": {},
   "outputs": [],
   "source": []
  }
 ],
 "metadata": {
  "kernelspec": {
   "display_name": "Julia 1.5.2",
   "language": "julia",
   "name": "julia-1.5"
  },
  "language_info": {
   "file_extension": ".jl",
   "mimetype": "application/julia",
   "name": "julia",
   "version": "1.5.2"
  }
 },
 "nbformat": 4,
 "nbformat_minor": 4
}
