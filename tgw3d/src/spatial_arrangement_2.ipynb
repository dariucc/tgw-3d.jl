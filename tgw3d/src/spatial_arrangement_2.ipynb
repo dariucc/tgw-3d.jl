{
 "cells": [
  {
   "cell_type": "code",
   "execution_count": 1,
   "metadata": {},
   "outputs": [
    {
     "name": "stderr",
     "output_type": "stream",
     "text": [
      "┌ Info: Precompiling LinearAlgebraicRepresentation [95167b0c-186a-594b-a231-52369c6de044]\n",
      "└ @ Base loading.jl:1278\n",
      "ERROR: LoadError: Triangle is not properly installed. Please run\n",
      "Pkg.build(\"Triangle\")\n",
      "Stacktrace:\n",
      " [1] error(::String) at .\\error.jl:33\n",
      " [2] top-level scope at C:\\Users\\daria\\.julia\\packages\\Triangle\\gYrhQ\\src\\Triangle.jl:11\n",
      " [3] include(::Function, ::Module, ::String) at .\\Base.jl:380\n",
      " [4] include(::Module, ::String) at .\\Base.jl:368\n",
      " [5] top-level scope at none:2\n",
      " [6] eval at .\\boot.jl:331 [inlined]\n",
      " [7] eval(::Expr) at .\\client.jl:467\n",
      " [8] top-level scope at .\\none:3\n",
      "in expression starting at C:\\Users\\daria\\.julia\\packages\\Triangle\\gYrhQ\\src\\Triangle.jl:10\n",
      "ERROR: LoadError: LoadError: LoadError: Failed to precompile Triangle [56f361f5-126b-55db-87fb-1c71988fcde4] to C:\\Users\\daria\\.julia\\compiled\\v1.5\\Triangle\\Zuza2_yxmkL.ji.\n",
      "Stacktrace:\n",
      " [1] error(::String) at .\\error.jl:33\n",
      " [2] compilecache(::Base.PkgId, ::String) at .\\loading.jl:1305\n",
      " [3] _require(::Base.PkgId) at .\\loading.jl:1030\n",
      " [4] require(::Base.PkgId) at .\\loading.jl:928\n",
      " [5] require(::Module, ::Symbol) at .\\loading.jl:923\n",
      " [6] include(::Function, ::Module, ::String) at .\\Base.jl:380\n",
      " [7] include at .\\Base.jl:368 [inlined]\n",
      " [8] include(::String) at C:\\Users\\daria\\.julia\\packages\\LinearAlgebraicRepresentation\\qwzGL\\src\\arrangement\\arrangement.jl:1\n",
      " [9] top-level scope at C:\\Users\\daria\\.julia\\packages\\LinearAlgebraicRepresentation\\qwzGL\\src\\arrangement\\arrangement.jl:11\n",
      " [10] include(::Function, ::Module, ::String) at .\\Base.jl:380\n",
      " [11] include at .\\Base.jl:368 [inlined]\n",
      " [12] include(::String) at C:\\Users\\daria\\.julia\\packages\\LinearAlgebraicRepresentation\\qwzGL\\src\\LinearAlgebraicRepresentation.jl:1\n",
      " [13] top-level scope at C:\\Users\\daria\\.julia\\packages\\LinearAlgebraicRepresentation\\qwzGL\\src\\LinearAlgebraicRepresentation.jl:113\n",
      " [14] include(::Function, ::Module, ::String) at .\\Base.jl:380\n",
      " [15] include(::Module, ::String) at .\\Base.jl:368\n",
      " [16] top-level scope at none:2\n",
      " [17] eval at .\\boot.jl:331 [inlined]\n",
      " [18] eval(::Expr) at .\\client.jl:467\n",
      " [19] top-level scope at .\\none:3\n",
      "in expression starting at C:\\Users\\daria\\.julia\\packages\\LinearAlgebraicRepresentation\\qwzGL\\src\\arrangement\\minimal_cycles.jl:1\n",
      "in expression starting at C:\\Users\\daria\\.julia\\packages\\LinearAlgebraicRepresentation\\qwzGL\\src\\arrangement\\arrangement.jl:11\n",
      "in expression starting at C:\\Users\\daria\\.julia\\packages\\LinearAlgebraicRepresentation\\qwzGL\\src\\LinearAlgebraicRepresentation.jl:113\n"
     ]
    },
    {
     "ename": "LoadError",
     "evalue": "Failed to precompile LinearAlgebraicRepresentation [95167b0c-186a-594b-a231-52369c6de044] to C:\\Users\\daria\\.julia\\compiled\\v1.5\\LinearAlgebraicRepresentation\\z0SUB_yxmkL.ji.",
     "output_type": "error",
     "traceback": [
      "Failed to precompile LinearAlgebraicRepresentation [95167b0c-186a-594b-a231-52369c6de044] to C:\\Users\\daria\\.julia\\compiled\\v1.5\\LinearAlgebraicRepresentation\\z0SUB_yxmkL.ji.",
      "",
      "Stacktrace:",
      " [1] error(::String) at .\\error.jl:33",
      " [2] compilecache(::Base.PkgId, ::String) at .\\loading.jl:1305",
      " [3] _require(::Base.PkgId) at .\\loading.jl:1030",
      " [4] require(::Base.PkgId) at .\\loading.jl:928",
      " [5] require(::Module, ::Symbol) at .\\loading.jl:923",
      " [6] include_string(::Function, ::Module, ::String, ::String) at .\\loading.jl:1091"
     ]
    }
   ],
   "source": [
    "using LinearAlgebraicRepresentation\n",
    "\n",
    "Lar=LinearAlgebraicRepresentation \n",
    "function spatial_arrangement_2(\n",
    "\t\trV::Lar.Points,\n",
    "\t\trcopEV::Lar.ChainOp,\n",
    "\t\trcopFE::Lar.ChainOp, multiproc::Bool=false)\n",
    "\n",
    "\t#rcopCF = Lar.build_copFC(rV, rcopEV, rcopFE)\n",
    "\trcopCF = Lar.Arrangement.minimal_3cycles(rV, rcopEV, rcopFE)\n",
    "    return rV, rcopEV, rcopFE, rcopCF\n",
    "end\n"
   ]
  },
  {
   "cell_type": "code",
   "execution_count": 2,
   "metadata": {
    "scrolled": true
   },
   "outputs": [
    {
     "ename": "LoadError",
     "evalue": "UndefVarError: LinearAlgebraicRepresentation not defined",
     "output_type": "error",
     "traceback": [
      "UndefVarError: LinearAlgebraicRepresentation not defined",
      "",
      "Stacktrace:",
      " [1] top-level scope at In[2]:1",
      " [2] include_string(::Function, ::Module, ::String, ::String) at .\\loading.jl:1091"
     ]
    }
   ],
   "source": [
    "Lar=LinearAlgebraicRepresentation \n",
    "using SparseArrays\n",
    "V = Float64[\n",
    "        0 0 0; 0 1 0;\n",
    "        1 1 0; 1 0 0;\n",
    "        0 0 1; 0 1 1;\n",
    "        1 1 1; 1 0 1\n",
    "    ]\n",
    "\n",
    "    EV = sparse(Int8[\n",
    "        -1  1  0  0  0  0  0  0;\n",
    "        0 -1  1  0  0  0  0  0;\n",
    "        0  0 -1  1  0  0  0  0;\n",
    "        -1  0  0  1  0  0  0  0;\n",
    "        -1  0  0  0  1  0  0  0;\n",
    "        0 -1  0  0  0  1  0  0;\n",
    "        0  0 -1  0  0  0  1  0;\n",
    "        0  0  0 -1  0  0  0  1;\n",
    "        0  0  0  0 -1  1  0  0;\n",
    "        0  0  0  0  0 -1  1  0;\n",
    "        0  0  0  0  0  0 -1  1;\n",
    "        0  0  0  0 -1  0  0  1;\n",
    "    ])\n",
    "\n",
    "    FE = sparse(Int8[\n",
    "        1  1  1 -1  0  0  0  0  0  0  0  0;\n",
    "        0  0  0  0  0  0  0  0 -1 -1 -1  1;\n",
    "        -1  0  0  0  1 -1  0  0  1  0  0  0;\n",
    "        0 -1  0  0  0  1 -1  0  0  1  0  0;\n",
    "        0  0 -1  0  0  0  1 -1  0  0  1  0;\n",
    "        0  0  0  1 -1  0  0  1  0  0  0 -1;\n",
    "    ])\n",
    "@time spatial_arrangement_2(Lar.Points(V),Lar.ChainOp(EV),Lar.ChainOp(FE),true)"
   ]
  },
  {
   "cell_type": "code",
   "execution_count": null,
   "metadata": {},
   "outputs": [],
   "source": []
  },
  {
   "cell_type": "code",
   "execution_count": null,
   "metadata": {},
   "outputs": [],
   "source": []
  }
 ],
 "metadata": {
  "kernelspec": {
   "display_name": "Julia 1.5.2",
   "language": "julia",
   "name": "julia-1.5"
  },
  "language_info": {
   "file_extension": ".jl",
   "mimetype": "application/julia",
   "name": "julia",
   "version": "1.5.2"
  }
 },
 "nbformat": 4,
 "nbformat_minor": 4
}
